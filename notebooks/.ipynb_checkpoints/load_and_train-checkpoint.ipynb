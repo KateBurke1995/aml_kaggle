{
 "cells": [
  {
   "cell_type": "code",
   "execution_count": 1,
   "metadata": {},
   "outputs": [
    {
     "name": "stderr",
     "output_type": "stream",
     "text": [
      "Using TensorFlow backend.\n"
     ]
    }
   ],
   "source": [
    "from keras.layers import Dense\n",
    "from keras.layers import Dropout\n",
    "from keras.layers import Flatten\n",
    "from keras.layers import Dropout\n",
    "from keras.layers import MaxPooling2D\n",
    "from keras.layers import Conv2D\n",
    "from keras.models import load_model\n",
    "from keras.models import Sequential\n",
    "from keras.utils import to_categorical\n",
    "from skimage.transform import resize\n",
    "from sklearn.model_selection import train_test_split\n",
    "import csv\n",
    "import h5py\n",
    "import matplotlib.image as mpimg\n",
    "import matplotlib.pyplot as plt\n",
    "import numpy as np\n",
    "import os\n",
    "%matplotlib inline"
   ]
  },
  {
   "cell_type": "code",
   "execution_count": 2,
   "metadata": {},
   "outputs": [
    {
     "name": "stdout",
     "output_type": "stream",
     "text": [
      "Shapes:\n",
      "X:(24204, 64, 64, 1)\n",
      "Y:(24204, 121)\n"
     ]
    }
   ],
   "source": [
    "# set global variables and hyper-parameters\n",
    "DATA_LOCATION = '../data/'\n",
    "TRAIN_IMAGES_LOCATION = '../data/train_images/'\n",
    "IMAGE_SIZE = 64\n",
    "N_CLASSES = 121\n",
    "BATCH_SIZE = 128\n",
    "N_EPOCHS = 20\n",
    "\n",
    "# load train images filenames with class labels\n",
    "filenames = [i for i in os.listdir('../data/train_images') if i.endswith('.jpg')]\n",
    "with open(DATA_LOCATION + 'train_onelabel.csv', mode='r') as infile:\n",
    "    reader = csv.reader(infile)\n",
    "    file_to_class = {rows[0]:rows[1] for rows in reader}\n",
    "\n",
    "X = np.empty([len(filenames),IMAGE_SIZE,IMAGE_SIZE,1])\n",
    "Y = np.empty([len(filenames),N_CLASSES])\n",
    "print('Shapes:\\nX:{}\\nY:{}'.format(X.shape, Y.shape))"
   ]
  },
  {
   "cell_type": "code",
   "execution_count": 3,
   "metadata": {
    "collapsed": true
   },
   "outputs": [],
   "source": [
    "def get_padding(i):\n",
    "    \"\"\"\n",
    "    Helper function for getting right padding sizes\n",
    "    input:\n",
    "        - i: positive integer gotten from substracting height and width of an image\n",
    "    output:\n",
    "        - Tuple representing the correct padding\n",
    "    \"\"\"\n",
    "    if i%2 == 0:\n",
    "        return (int(i/2),int(i/2))\n",
    "    else:\n",
    "        return (int(i/2-.5), int(i/2+.5))\n",
    "\n",
    "def pad_image(img):\n",
    "    \"\"\"\n",
    "    Add padding to image to make it square\n",
    "    input:\n",
    "        - img: numpy array (2D) representing image\n",
    "    output:\n",
    "        - padded array of shape (N,N)\n",
    "    \"\"\"\n",
    "    H, W = img.shape\n",
    "    if H == W:\n",
    "        return img\n",
    "    elif H > W:\n",
    "        return np.pad(img, ((0,0), get_padding(H-W)), 'constant')\n",
    "    else:\n",
    "        return np.pad(img, (get_padding(W-H), (0,0)), 'constant')\n",
    "\n",
    "def resize_image(img):\n",
    "    \"\"\"\n",
    "    Resize image to new square shape\n",
    "    input:\n",
    "        - img: numpy array (2D) representing image\n",
    "        - size: final shape of image in pixels (integer)\n",
    "    \"\"\"\n",
    "    return resize(img, (IMAGE_SIZE,IMAGE_SIZE), mode='reflect')"
   ]
  },
  {
   "cell_type": "markdown",
   "metadata": {},
   "source": [
    "For image in filenames:\n",
    "- load file\n",
    "- from [0,255] to [0.0 to 1.0]\n",
    "- square and resize image\n",
    "- rotate [0,90,180,270]\n",
    "- add 4 images to X\n",
    "- look up label in .csv\n",
    "- add 4 labels to Y\n",
    "\n",
    "Rotation can be done through ImageDataGenerator. However, this increases runtime exponentially. \n",
    "\n",
    "`numpy.rot90(numpy.ndarray, nr_of_90_degrees_rotations)` might be a better option."
   ]
  },
  {
   "cell_type": "code",
   "execution_count": 4,
   "metadata": {
    "collapsed": true
   },
   "outputs": [],
   "source": [
    "for i in range(len(filenames)):\n",
    "    # read and transform image to usable format\n",
    "    img = mpimg.imread(TRAIN_IMAGES_LOCATION + filenames[i])\n",
    "    img = np.absolute(np.divide(img.astype(float), 255) - 1.0)\n",
    "    img = resize_image(pad_image(img))\n",
    "    # create a grayscale channel \n",
    "    img = img.reshape(64,64,1)\n",
    "    \n",
    "    X[i] = img\n",
    "    # set the one-hot-label\n",
    "    Y[i][int(file_to_class[filenames[i]])] = 1.0"
   ]
  },
  {
   "cell_type": "code",
   "execution_count": 5,
   "metadata": {
    "collapsed": true
   },
   "outputs": [],
   "source": [
    "# select a random train/test split\n",
    "X_train, X_test, y_train, y_test = train_test_split(X, Y, test_size=0.1)"
   ]
  },
  {
   "cell_type": "code",
   "execution_count": 6,
   "metadata": {},
   "outputs": [
    {
     "name": "stdout",
     "output_type": "stream",
     "text": [
      "_________________________________________________________________\n",
      "Layer (type)                 Output Shape              Param #   \n",
      "=================================================================\n",
      "conv2d_1 (Conv2D)            (None, 62, 62, 32)        320       \n",
      "_________________________________________________________________\n",
      "conv2d_2 (Conv2D)            (None, 60, 60, 64)        18496     \n",
      "_________________________________________________________________\n",
      "max_pooling2d_1 (MaxPooling2 (None, 30, 30, 64)        0         \n",
      "_________________________________________________________________\n",
      "dropout_1 (Dropout)          (None, 30, 30, 64)        0         \n",
      "_________________________________________________________________\n",
      "flatten_1 (Flatten)          (None, 57600)             0         \n",
      "_________________________________________________________________\n",
      "dense_1 (Dense)              (None, 128)               7372928   \n",
      "_________________________________________________________________\n",
      "dropout_2 (Dropout)          (None, 128)               0         \n",
      "_________________________________________________________________\n",
      "dense_2 (Dense)              (None, 121)               15609     \n",
      "=================================================================\n",
      "Total params: 7,407,353\n",
      "Trainable params: 7,407,353\n",
      "Non-trainable params: 0\n",
      "_________________________________________________________________\n"
     ]
    }
   ],
   "source": [
    "model = Sequential()\n",
    "model.add(Conv2D(32, kernel_size=(3, 3), activation='relu', input_shape=X[0].shape))\n",
    "model.add(Conv2D(64, (3, 3), activation='relu'))\n",
    "model.add(MaxPooling2D(pool_size=(2, 2)))\n",
    "model.add(Dropout(0.5))\n",
    "model.add(Flatten())\n",
    "model.add(Dense(128, activation='relu'))\n",
    "model.add(Dropout(0.5))\n",
    "model.add(Dense(N_CLASSES, activation='softmax'))\n",
    "\n",
    "model.compile(optimizer='rmsprop', loss='categorical_crossentropy', metrics=['accuracy'])\n",
    "\n",
    "model.summary()"
   ]
  },
  {
   "cell_type": "code",
   "execution_count": 7,
   "metadata": {},
   "outputs": [
    {
     "name": "stdout",
     "output_type": "stream",
     "text": [
      "Train on 21783 samples, validate on 2421 samples\n",
      "Epoch 1/20\n",
      "21783/21783 [==============================] - 626s - loss: 3.3544 - acc: 0.2431 - val_loss: 2.5755 - val_acc: 0.3779\n",
      "Epoch 2/20\n",
      "21783/21783 [==============================] - 724s - loss: 2.5901 - acc: 0.3629 - val_loss: 2.2080 - val_acc: 0.4333\n",
      "Epoch 3/20\n",
      "21783/21783 [==============================] - 669s - loss: 2.2888 - acc: 0.4127 - val_loss: 2.1060 - val_acc: 0.4527\n",
      "Epoch 4/20\n",
      "21783/21783 [==============================] - 682s - loss: 2.0992 - acc: 0.4493 - val_loss: 1.9933 - val_acc: 0.4742\n",
      "Epoch 5/20\n",
      "21783/21783 [==============================] - 602s - loss: 1.9645 - acc: 0.4828 - val_loss: 2.1005 - val_acc: 0.4701\n",
      "Epoch 6/20\n",
      "21783/21783 [==============================] - 610s - loss: 1.8617 - acc: 0.4980 - val_loss: 1.8686 - val_acc: 0.5105\n",
      "Epoch 7/20\n",
      "21783/21783 [==============================] - 634s - loss: 1.7700 - acc: 0.5180 - val_loss: 1.8365 - val_acc: 0.5366\n",
      "Epoch 8/20\n",
      "21783/21783 [==============================] - 638s - loss: 1.7052 - acc: 0.5351 - val_loss: 1.7936 - val_acc: 0.5349\n",
      "Epoch 9/20\n",
      "21783/21783 [==============================] - 721s - loss: 1.6536 - acc: 0.5438 - val_loss: 1.7687 - val_acc: 0.5357\n",
      "Epoch 10/20\n",
      "21783/21783 [==============================] - 708s - loss: 1.5992 - acc: 0.5633 - val_loss: 2.0328 - val_acc: 0.5176\n",
      "Epoch 11/20\n",
      "21783/21783 [==============================] - 668s - loss: 1.5551 - acc: 0.5676 - val_loss: 1.9371 - val_acc: 0.5341\n",
      "Epoch 12/20\n",
      "21783/21783 [==============================] - 709s - loss: 1.5254 - acc: 0.5737 - val_loss: 1.8072 - val_acc: 0.5275\n",
      "Epoch 13/20\n",
      "21783/21783 [==============================] - 684s - loss: 1.4834 - acc: 0.5844 - val_loss: 1.8897 - val_acc: 0.5308\n",
      "Epoch 14/20\n",
      "21783/21783 [==============================] - 635s - loss: 1.4629 - acc: 0.5962 - val_loss: 1.8183 - val_acc: 0.5560\n",
      "Epoch 15/20\n",
      "21783/21783 [==============================] - 694s - loss: 1.4507 - acc: 0.5937 - val_loss: 1.7798 - val_acc: 0.5448\n",
      "Epoch 16/20\n",
      "21783/21783 [==============================] - 684s - loss: 1.4371 - acc: 0.5967 - val_loss: 1.9821 - val_acc: 0.5461\n",
      "Epoch 17/20\n",
      "21783/21783 [==============================] - 649s - loss: 1.4185 - acc: 0.6024 - val_loss: 1.8930 - val_acc: 0.5349\n",
      "Epoch 18/20\n",
      "21783/21783 [==============================] - 596s - loss: 1.4034 - acc: 0.6059 - val_loss: 1.8443 - val_acc: 0.5378\n",
      "Epoch 19/20\n",
      "21783/21783 [==============================] - 620s - loss: 1.3825 - acc: 0.6114 - val_loss: 1.8601 - val_acc: 0.5440\n",
      "Epoch 20/20\n",
      "21783/21783 [==============================] - 711s - loss: 1.3732 - acc: 0.6165 - val_loss: 2.0307 - val_acc: 0.5634\n"
     ]
    },
    {
     "data": {
      "text/plain": [
       "<keras.callbacks.History at 0x181052c88>"
      ]
     },
     "execution_count": 7,
     "metadata": {},
     "output_type": "execute_result"
    }
   ],
   "source": [
    "history = model.fit(\n",
    "    X_train, \n",
    "    y_train,\n",
    "    validation_data=(X_test,y_test),\n",
    "    epochs=N_EPOCHS,\n",
    "    batch_size=BATCH_SIZE,\n",
    "    verbose=1)"
   ]
  },
  {
   "cell_type": "code",
   "execution_count": 8,
   "metadata": {
    "collapsed": true
   },
   "outputs": [],
   "source": [
    "model.save('../data/output/models/model4.h5')"
   ]
  },
  {
   "cell_type": "code",
   "execution_count": null,
   "metadata": {
    "collapsed": true
   },
   "outputs": [],
   "source": [
    "# summarize history for accuracy\n",
    "plt.plot(history.history['acc'])\n",
    "plt.plot(history.history['val_acc'])\n",
    "plt.title('model accuracy')\n",
    "plt.ylabel('accuracy')\n",
    "plt.xlabel('epoch')\n",
    "plt.legend(['train', 'test'], loc='upper left')\n",
    "plt.show()\n",
    "# summarize history for loss\n",
    "plt.plot(history.history['loss'])\n",
    "plt.plot(history.history['val_loss'])\n",
    "plt.title('model loss')\n",
    "plt.ylabel('loss')\n",
    "plt.xlabel('epoch')\n",
    "plt.legend(['train', 'test'], loc='upper left')\n",
    "plt.show()"
   ]
  }
 ],
 "metadata": {
  "kernelspec": {
   "display_name": "Python 3",
   "language": "python",
   "name": "python3"
  },
  "language_info": {
   "codemirror_mode": {
    "name": "ipython",
    "version": 3
   },
   "file_extension": ".py",
   "mimetype": "text/x-python",
   "name": "python",
   "nbconvert_exporter": "python",
   "pygments_lexer": "ipython3",
   "version": "3.6.2"
  }
 },
 "nbformat": 4,
 "nbformat_minor": 2
}
