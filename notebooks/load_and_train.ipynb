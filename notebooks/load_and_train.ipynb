{
 "cells": [
  {
   "cell_type": "code",
   "execution_count": 1,
   "metadata": {},
   "outputs": [
    {
     "name": "stderr",
     "output_type": "stream",
     "text": [
      "Using TensorFlow backend.\n"
     ]
    }
   ],
   "source": [
    "from keras.layers import Dense\n",
    "from keras.layers import Dropout\n",
    "from keras.layers import Flatten\n",
    "from keras.layers import Dropout\n",
    "from keras.layers import MaxPooling2D\n",
    "from keras.layers import Conv2D\n",
    "from keras.models import load_model\n",
    "from keras.models import Sequential\n",
    "from keras.utils import to_categorical\n",
    "from skimage.transform import resize\n",
    "from sklearn.model_selection import train_test_split\n",
    "import csv\n",
    "import h5py\n",
    "import matplotlib.image as mpimg\n",
    "import matplotlib.pyplot as plt\n",
    "import numpy as np\n",
    "import os\n",
    "%matplotlib inline"
   ]
  },
  {
   "cell_type": "code",
   "execution_count": 2,
   "metadata": {},
   "outputs": [
    {
     "name": "stdout",
     "output_type": "stream",
     "text": [
      "Shapes:\n",
      "X:(4000, 64, 64, 1)\n",
      "Y:(4000, 121)\n"
     ]
    }
   ],
   "source": [
    "# set global variables and hyper-parameters\n",
    "DATA_LOCATION = '../data/'\n",
    "TRAIN_IMAGES_LOCATION = '../data/train_images/'\n",
    "IMAGE_SIZE = 64\n",
    "N_CLASSES = 121\n",
    "BATCH_SIZE = 128\n",
    "N_EPOCHS = 20\n",
    "\n",
    "# load train images filenames with class labels\n",
    "filenames = [i for i in os.listdir('../data/train_images') if i.endswith('.jpg')]\n",
    "with open(DATA_LOCATION + 'train_onelabel.csv', mode='r') as infile:\n",
    "    reader = csv.reader(infile)\n",
    "    file_to_class = {rows[0]:rows[1] for rows in reader}\n",
    "    \n",
    "filenames = filenames[:1000]\n",
    "\n",
    "X = np.empty([len(filenames)*4,IMAGE_SIZE,IMAGE_SIZE,1])\n",
    "Y = np.empty([len(filenames)*4,N_CLASSES])\n",
    "print('Shapes:\\nX:{}\\nY:{}'.format(X.shape, Y.shape))"
   ]
  },
  {
   "cell_type": "code",
   "execution_count": 3,
   "metadata": {
    "collapsed": true
   },
   "outputs": [],
   "source": [
    "def get_padding(i):\n",
    "    \"\"\"\n",
    "    Helper function for getting right padding sizes\n",
    "    input:\n",
    "        - i: positive integer gotten from substracting height and width of an image\n",
    "    output:\n",
    "        - Tuple representing the correct padding\n",
    "    \"\"\"\n",
    "    if i%2 == 0:\n",
    "        return (int(i/2),int(i/2))\n",
    "    else:\n",
    "        return (int(i/2-.5), int(i/2+.5))\n",
    "\n",
    "def pad_image(img):\n",
    "    \"\"\"\n",
    "    Add padding to image to make it square\n",
    "    input:\n",
    "        - img: numpy array (2D) representing image\n",
    "    output:\n",
    "        - padded array of shape (N,N)\n",
    "    \"\"\"\n",
    "    H, W = img.shape\n",
    "    if H == W:\n",
    "        return img\n",
    "    elif H > W:\n",
    "        return np.pad(img, ((0,0), get_padding(H-W)), 'constant')\n",
    "    else:\n",
    "        return np.pad(img, (get_padding(W-H), (0,0)), 'constant')\n",
    "\n",
    "def resize_image(img):\n",
    "    \"\"\"\n",
    "    Resize image to new square shape\n",
    "    input:\n",
    "        - img: numpy array (2D) representing image\n",
    "        - size: final shape of image in pixels (integer)\n",
    "    \"\"\"\n",
    "    return resize(img, (IMAGE_SIZE,IMAGE_SIZE), mode='reflect')"
   ]
  },
  {
   "cell_type": "markdown",
   "metadata": {},
   "source": [
    "For image in filenames:\n",
    "- load file\n",
    "- from [0,255] to [0.0 to 1.0]\n",
    "- square and resize image\n",
    "- rotate [0,90,180,270]\n",
    "- add 4 images to X\n",
    "- look up label in .csv\n",
    "- add 4 labels to Y\n",
    "\n",
    "Rotation can be done through ImageDataGenerator. However, this increases runtime exponentially. \n",
    "\n",
    "`numpy.rot90(numpy.ndarray, nr_of_90_degrees_rotations)` might be a better option."
   ]
  },
  {
   "cell_type": "code",
   "execution_count": 4,
   "metadata": {
    "collapsed": true
   },
   "outputs": [],
   "source": [
    "total = len(filenames)\n",
    "for i in range(len(filenames)):\n",
    "    # read and transform image to usable format\n",
    "    img = mpimg.imread(TRAIN_IMAGES_LOCATION + filenames[i])\n",
    "    img = np.absolute(np.divide(img.astype(float), 255) - 1.0)\n",
    "    img = resize_image(pad_image(img))\n",
    "    # create a grayscale channel \n",
    "    img = img.reshape(64,64,1)\n",
    "    \n",
    "    for j in range(4):\n",
    "        X[i+j*total] = np.rot90(img,j)\n",
    "        Y[i+j*total][int(file_to_class[filenames[i]])] = 1.0"
   ]
  },
  {
   "cell_type": "code",
   "execution_count": 8,
   "metadata": {},
   "outputs": [
    {
     "name": "stdout",
     "output_type": "stream",
     "text": [
      "Shapes:\n",
      "X:(4000, 64, 64, 1)\n",
      "Y:(4000, 121)\n"
     ]
    }
   ],
   "source": [
    "print('Shapes:\\nX:{}\\nY:{}'.format(X.shape, Y.shape))"
   ]
  },
  {
   "cell_type": "code",
   "execution_count": 9,
   "metadata": {
    "collapsed": true
   },
   "outputs": [],
   "source": [
    "# select a random train/test split\n",
    "X_train, X_test, y_train, y_test = train_test_split(X, Y, test_size=0.1)"
   ]
  },
  {
   "cell_type": "code",
   "execution_count": 10,
   "metadata": {},
   "outputs": [
    {
     "name": "stdout",
     "output_type": "stream",
     "text": [
      "_________________________________________________________________\n",
      "Layer (type)                 Output Shape              Param #   \n",
      "=================================================================\n",
      "conv2d_1 (Conv2D)            (None, 62, 62, 32)        320       \n",
      "_________________________________________________________________\n",
      "conv2d_2 (Conv2D)            (None, 60, 60, 64)        18496     \n",
      "_________________________________________________________________\n",
      "max_pooling2d_1 (MaxPooling2 (None, 30, 30, 64)        0         \n",
      "_________________________________________________________________\n",
      "dropout_1 (Dropout)          (None, 30, 30, 64)        0         \n",
      "_________________________________________________________________\n",
      "flatten_1 (Flatten)          (None, 57600)             0         \n",
      "_________________________________________________________________\n",
      "dense_1 (Dense)              (None, 128)               7372928   \n",
      "_________________________________________________________________\n",
      "dropout_2 (Dropout)          (None, 128)               0         \n",
      "_________________________________________________________________\n",
      "dense_2 (Dense)              (None, 121)               15609     \n",
      "=================================================================\n",
      "Total params: 7,407,353\n",
      "Trainable params: 7,407,353\n",
      "Non-trainable params: 0\n",
      "_________________________________________________________________\n"
     ]
    }
   ],
   "source": [
    "model = Sequential()\n",
    "model.add(Conv2D(32, kernel_size=(3, 3), activation='relu', input_shape=X[0].shape))\n",
    "model.add(Conv2D(64, (3, 3), activation='relu'))\n",
    "model.add(MaxPooling2D(pool_size=(2, 2)))\n",
    "model.add(Dropout(0.5))\n",
    "model.add(Flatten())\n",
    "model.add(Dense(128, activation='relu'))\n",
    "model.add(Dropout(0.5))\n",
    "model.add(Dense(N_CLASSES, activation='softmax'))\n",
    "\n",
    "model.compile(optimizer='rmsprop', loss='categorical_crossentropy', metrics=['accuracy'])\n",
    "\n",
    "model.summary()"
   ]
  },
  {
   "cell_type": "code",
   "execution_count": 11,
   "metadata": {},
   "outputs": [
    {
     "name": "stdout",
     "output_type": "stream",
     "text": [
      "Train on 3600 samples, validate on 400 samples\n",
      "Epoch 1/20\n",
      "3600/3600 [==============================] - 106s - loss: 4.1835 - acc: 0.1303 - val_loss: 3.5257 - val_acc: 0.2025\n",
      "Epoch 2/20\n",
      "3600/3600 [==============================] - 92s - loss: 3.5071 - acc: 0.2053 - val_loss: 3.2324 - val_acc: 0.2400\n",
      "Epoch 3/20\n",
      "3600/3600 [==============================] - 90s - loss: 3.1682 - acc: 0.2503 - val_loss: 3.3292 - val_acc: 0.2200\n",
      "Epoch 4/20\n",
      "3600/3600 [==============================] - 92s - loss: 2.8738 - acc: 0.3075 - val_loss: 2.8327 - val_acc: 0.3350\n",
      "Epoch 5/20\n",
      "3600/3600 [==============================] - 92s - loss: 2.5847 - acc: 0.3539 - val_loss: 2.6907 - val_acc: 0.3500\n",
      "Epoch 6/20\n",
      "3600/3600 [==============================] - 92s - loss: 2.3445 - acc: 0.3769 - val_loss: 2.6254 - val_acc: 0.3475\n",
      "Epoch 7/20\n",
      "3600/3600 [==============================] - 89s - loss: 2.1391 - acc: 0.4236 - val_loss: 2.5985 - val_acc: 0.3450\n",
      "Epoch 8/20\n",
      "3600/3600 [==============================] - 94s - loss: 2.0006 - acc: 0.4486 - val_loss: 2.4798 - val_acc: 0.3900\n",
      "Epoch 9/20\n",
      "3600/3600 [==============================] - 93s - loss: 1.8021 - acc: 0.5006 - val_loss: 2.4697 - val_acc: 0.3700\n",
      "Epoch 10/20\n",
      "3600/3600 [==============================] - 93s - loss: 1.6025 - acc: 0.5400 - val_loss: 2.7023 - val_acc: 0.3850\n",
      "Epoch 11/20\n",
      "3600/3600 [==============================] - 92s - loss: 1.5099 - acc: 0.5561 - val_loss: 2.3900 - val_acc: 0.4075\n",
      "Epoch 12/20\n",
      "3600/3600 [==============================] - 93s - loss: 1.3443 - acc: 0.6061 - val_loss: 2.5020 - val_acc: 0.4000\n",
      "Epoch 13/20\n",
      "3600/3600 [==============================] - 98s - loss: 1.2476 - acc: 0.6303 - val_loss: 2.4196 - val_acc: 0.4075\n",
      "Epoch 14/20\n",
      "3600/3600 [==============================] - 90s - loss: 1.1715 - acc: 0.6444 - val_loss: 2.6859 - val_acc: 0.3775\n",
      "Epoch 15/20\n",
      "3600/3600 [==============================] - 91s - loss: 1.0250 - acc: 0.6817 - val_loss: 2.5289 - val_acc: 0.4425\n",
      "Epoch 16/20\n",
      "3600/3600 [==============================] - 89s - loss: 0.9705 - acc: 0.7000 - val_loss: 2.6474 - val_acc: 0.4325\n",
      "Epoch 17/20\n",
      "3600/3600 [==============================] - 89s - loss: 0.9038 - acc: 0.7111 - val_loss: 2.3914 - val_acc: 0.4175\n",
      "Epoch 18/20\n",
      "3600/3600 [==============================] - 90s - loss: 0.8351 - acc: 0.7372 - val_loss: 2.5451 - val_acc: 0.4300\n",
      "Epoch 19/20\n",
      "3600/3600 [==============================] - 108s - loss: 0.7951 - acc: 0.7547 - val_loss: 2.6730 - val_acc: 0.4250\n",
      "Epoch 20/20\n",
      "3600/3600 [==============================] - 94s - loss: 0.7271 - acc: 0.7597 - val_loss: 2.7987 - val_acc: 0.4100\n"
     ]
    }
   ],
   "source": [
    "history = model.fit(\n",
    "    X_train, \n",
    "    y_train,\n",
    "    validation_data=(X_test,y_test),\n",
    "    epochs=N_EPOCHS,\n",
    "    batch_size=BATCH_SIZE,\n",
    "    verbose=1)"
   ]
  },
  {
   "cell_type": "code",
   "execution_count": 12,
   "metadata": {
    "collapsed": true
   },
   "outputs": [],
   "source": [
    "model.save('../data/output/models/model5.h5')"
   ]
  },
  {
   "cell_type": "code",
   "execution_count": 13,
   "metadata": {},
   "outputs": [
    {
     "data": {
      "image/png": "[encoded data removed]",
      "text/plain": [
       "<matplotlib.figure.Figure at 0x128727a58>"
      ]
     },
     "metadata": {},
     "output_type": "display_data"
    },
    {
     "data": {
      "image/png": "[encoded data removed]",
      "text/plain": [
       "<matplotlib.figure.Figure at 0x128d0a0f0>"
      ]
     },
     "metadata": {},
     "output_type": "display_data"
    }
   ],
   "source": [
    "# summarize history for accuracy\n",
    "plt.plot(history.history['acc'])\n",
    "plt.plot(history.history['val_acc'])\n",
    "plt.title('model accuracy')\n",
    "plt.ylabel('accuracy')\n",
    "plt.xlabel('epoch')\n",
    "plt.legend(['train', 'test'], loc='upper left')\n",
    "plt.show()\n",
    "# summarize history for loss\n",
    "plt.plot(history.history['loss'])\n",
    "plt.plot(history.history['val_loss'])\n",
    "plt.title('model loss')\n",
    "plt.ylabel('loss')\n",
    "plt.xlabel('epoch')\n",
    "plt.legend(['train', 'test'], loc='upper left')\n",
    "plt.show()"
   ]
  },
  {
   "cell_type": "code",
   "execution_count": null,
   "metadata": {
    "collapsed": true
   },
   "outputs": [],
   "source": []
  }
 ],
 "metadata": {
  "kernelspec": {
   "display_name": "Python 3",
   "language": "python",
   "name": "python3"
  },
  "language_info": {
   "codemirror_mode": {
    "name": "ipython",
    "version": 3
   },
   "file_extension": ".py",
   "mimetype": "text/x-python",
   "name": "python",
   "nbconvert_exporter": "python",
   "pygments_lexer": "ipython3",
   "version": "3.6.2"
  }
 },
 "nbformat": 4,
 "nbformat_minor": 2
}
