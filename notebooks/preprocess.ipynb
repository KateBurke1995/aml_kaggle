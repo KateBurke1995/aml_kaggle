{
 "cells": [
  {
   "cell_type": "code",
   "execution_count": 1,
   "metadata": {},
   "outputs": [
    {
     "name": "stderr",
     "output_type": "stream",
     "text": [
      "Using TensorFlow backend.\n"
     ]
    }
   ],
   "source": [
    "from IPython.display import Image\n",
    "from keras.layers import Dense\n",
    "from keras.layers import Dropout\n",
    "from keras.layers import Conv2D\n",
    "from keras.layers import Convolution2D\n",
    "from keras.layers import Flatten\n",
    "from keras.layers import MaxPooling2D\n",
    "from keras.models import Sequential\n",
    "from keras.utils import to_categorical\n",
    "from skimage.transform import resize\n",
    "import matplotlib.image as mpimg\n",
    "import matplotlib.pyplot as plt\n",
    "import numpy as np\n",
    "import pandas as pd\n",
    "import h5py\n",
    "%matplotlib inline"
   ]
  },
  {
   "cell_type": "code",
   "execution_count": 2,
   "metadata": {
    "collapsed": true
   },
   "outputs": [],
   "source": [
    "DATA_LOCATION = '../data/'\n",
    "TRAIN_IMAGES_LOCATION = '../data/train_images/'\n",
    "IMAGE_SIZE = 64"
   ]
  },
  {
   "cell_type": "code",
   "execution_count": 3,
   "metadata": {
    "collapsed": true
   },
   "outputs": [],
   "source": [
    "train_labels = pd.read_csv(DATA_LOCATION + 'train_onelabel.csv')\n",
    "train_labels = train_labels.rename(columns={'image': 'filepath'})\n",
    "#train_labels = train_labels.sample(n=2000)"
   ]
  },
  {
   "cell_type": "code",
   "execution_count": 43,
   "metadata": {},
   "outputs": [],
   "source": [
    "def get_image(row):\n",
    "    \"\"\"\n",
    "    Load image from filepath to a numpy.ndarray\n",
    "    input:\n",
    "        - filepath: string with relative or absolute path to image\n",
    "    output:\n",
    "        - img:\n",
    "            numpy.ndarray containing the image\n",
    "            shaped (M,N), values [0.0, 1.0]\n",
    "    \"\"\"\n",
    "    try:\n",
    "        img = TRAIN_IMAGES_LOCATION + row['filepath']\n",
    "        img = mpimg.imread(img)\n",
    "    except:\n",
    "        img = row\n",
    "        img = mpimg.imread(img)\n",
    "    img = np.absolute(np.divide(img.astype(float), 255) - 1.0)\n",
    "    return img\n",
    "\n",
    "def get_padding(i):\n",
    "    \"\"\"\n",
    "    Helper function for getting right padding sizes\n",
    "    input:\n",
    "        - i: positive integer gotten from substracting height and width of an image\n",
    "    output:\n",
    "        - Tuple representing the correct padding\n",
    "    \"\"\"\n",
    "    if i%2 == 0:\n",
    "        return (int(i/2),int(i/2))\n",
    "    else:\n",
    "        return (int(i/2-.5), int(i/2+.5))\n",
    "    \n",
    "def pad_image(img):\n",
    "    \"\"\"\n",
    "    Add padding to image to make it square\n",
    "    input:\n",
    "        - img: numpy array (2D) representing image\n",
    "    output:\n",
    "        - padded array of shape (N,N)\n",
    "    \"\"\"\n",
    "    H, W = img.shape\n",
    "    if H == W:\n",
    "        return img\n",
    "    elif H > W:\n",
    "        return np.pad(img, ((0,0), get_padding(H-W)), 'constant')\n",
    "    else:\n",
    "        return np.pad(img, (get_padding(W-H), (0,0)), 'constant')\n",
    "    \n",
    "def resize_image(img, size):\n",
    "    \"\"\"\n",
    "    Resize image to new square shape\n",
    "    input:\n",
    "        - img: numpy array (2D) representing image\n",
    "        - size: final shape of image in pixels (integer)\n",
    "    \"\"\"\n",
    "    return resize(img, (size,size), mode='reflect')\n",
    "\n",
    "def flattened_image(row):\n",
    "    \"\"\"\n",
    "    Loads and processes image to be used later on\n",
    "    input:\n",
    "        - row: Pandas.DataFrame row\n",
    "    output:\n",
    "        - Python list, flattened np.ndarray\n",
    "    \"\"\"\n",
    "    img = get_image(row)\n",
    "    img = pad_image(img)\n",
    "    img = resize_image(img, IMAGE_SIZE)\n",
    "    return img.flatten().tolist()\n",
    "\n",
    "def get_shape(row):\n",
    "    \"\"\"\n",
    "    Loads and processes image to be used later on\n",
    "    input:\n",
    "        - row: Pandas.DataFrame row\n",
    "    output:\n",
    "        - tuple, with original image dimensions\n",
    "    \"\"\"\n",
    "    img = get_image(row)\n",
    "    return img.shape\n",
    "\n",
    "def rotate(array):\n",
    "    return [array]+[ np.rot90(array,i) for i in range(1,4)]"
   ]
  },
  {
   "cell_type": "code",
   "execution_count": 7,
   "metadata": {
    "collapsed": true
   },
   "outputs": [],
   "source": [
    "# get image from file\n",
    "# pad the image to a sqaure\n",
    "# resize to IMAGE_SIZE\n",
    "# flatten and convert np.array to Python list\n",
    "train_labels['image'] = train_labels.apply(flattened_image, axis=1)"
   ]
  },
  {
   "cell_type": "code",
   "execution_count": 8,
   "metadata": {},
   "outputs": [
    {
     "data": {
      "text/html": [
       "<div>\n",
       "<style scoped>\n",
       "    .dataframe tbody tr th:only-of-type {\n",
       "        vertical-align: middle;\n",
       "    }\n",
       "\n",
       "    .dataframe tbody tr th {\n",
       "        vertical-align: top;\n",
       "    }\n",
       "\n",
       "    .dataframe thead th {\n",
       "        text-align: right;\n",
       "    }\n",
       "</style>\n",
       "<table border=\"1\" class=\"dataframe\">\n",
       "  <thead>\n",
       "    <tr style=\"text-align: right;\">\n",
       "      <th></th>\n",
       "      <th>filepath</th>\n",
       "      <th>class</th>\n",
       "      <th>image</th>\n",
       "    </tr>\n",
       "  </thead>\n",
       "  <tbody>\n",
       "    <tr>\n",
       "      <th>23931</th>\n",
       "      <td>131166.jpg</td>\n",
       "      <td>119</td>\n",
       "      <td>[0.0, 0.0, 0.0, 0.0, 0.0, 0.0, 0.0, 0.0, 0.0, ...</td>\n",
       "    </tr>\n",
       "    <tr>\n",
       "      <th>12691</th>\n",
       "      <td>144298.jpg</td>\n",
       "      <td>58</td>\n",
       "      <td>[0.0, 0.0, 0.0, 0.0, 0.0, 0.0, 0.0, 0.0, 0.0, ...</td>\n",
       "    </tr>\n",
       "    <tr>\n",
       "      <th>1781</th>\n",
       "      <td>2323.jpg</td>\n",
       "      <td>6</td>\n",
       "      <td>[0.0, 0.0, 0.0, 0.0, 0.0, 0.0, 0.0, 0.0, 0.0, ...</td>\n",
       "    </tr>\n",
       "    <tr>\n",
       "      <th>16714</th>\n",
       "      <td>45086.jpg</td>\n",
       "      <td>84</td>\n",
       "      <td>[0.0, 0.0, 0.0, 0.0, 0.0, 0.0, 0.0, 0.0, 0.0, ...</td>\n",
       "    </tr>\n",
       "    <tr>\n",
       "      <th>16368</th>\n",
       "      <td>127585.jpg</td>\n",
       "      <td>81</td>\n",
       "      <td>[0.0, 0.0, 0.0, 0.0, 0.0, 0.0, 0.0, 0.0, 0.0, ...</td>\n",
       "    </tr>\n",
       "    <tr>\n",
       "      <th>21465</th>\n",
       "      <td>33865.jpg</td>\n",
       "      <td>105</td>\n",
       "      <td>[0.0, 0.0, 0.0, 0.0, 0.0, 0.0, 0.0, 0.0, 0.0, ...</td>\n",
       "    </tr>\n",
       "    <tr>\n",
       "      <th>13637</th>\n",
       "      <td>22735.jpg</td>\n",
       "      <td>61</td>\n",
       "      <td>[0.0, 0.0, 0.0, 0.0, 0.0, 0.0, 0.0, 0.0, 0.0, ...</td>\n",
       "    </tr>\n",
       "    <tr>\n",
       "      <th>4166</th>\n",
       "      <td>45830.jpg</td>\n",
       "      <td>17</td>\n",
       "      <td>[0.0, 0.0, 0.0, 0.0, 0.0, 0.0, 0.0, 0.0, 0.0, ...</td>\n",
       "    </tr>\n",
       "    <tr>\n",
       "      <th>14397</th>\n",
       "      <td>39851.jpg</td>\n",
       "      <td>67</td>\n",
       "      <td>[0.0, 0.0, 0.0, 0.0, 0.0, 0.0, 0.0, 0.0, 0.0, ...</td>\n",
       "    </tr>\n",
       "    <tr>\n",
       "      <th>9811</th>\n",
       "      <td>7573.jpg</td>\n",
       "      <td>45</td>\n",
       "      <td>[0.0, 0.0, 0.0, 0.0, 0.0, 0.0, 0.0, 0.0, 0.0, ...</td>\n",
       "    </tr>\n",
       "  </tbody>\n",
       "</table>\n",
       "</div>"
      ],
      "text/plain": [
       "         filepath  class                                              image\n",
       "23931  131166.jpg    119  [0.0, 0.0, 0.0, 0.0, 0.0, 0.0, 0.0, 0.0, 0.0, ...\n",
       "12691  144298.jpg     58  [0.0, 0.0, 0.0, 0.0, 0.0, 0.0, 0.0, 0.0, 0.0, ...\n",
       "1781     2323.jpg      6  [0.0, 0.0, 0.0, 0.0, 0.0, 0.0, 0.0, 0.0, 0.0, ...\n",
       "16714   45086.jpg     84  [0.0, 0.0, 0.0, 0.0, 0.0, 0.0, 0.0, 0.0, 0.0, ...\n",
       "16368  127585.jpg     81  [0.0, 0.0, 0.0, 0.0, 0.0, 0.0, 0.0, 0.0, 0.0, ...\n",
       "21465   33865.jpg    105  [0.0, 0.0, 0.0, 0.0, 0.0, 0.0, 0.0, 0.0, 0.0, ...\n",
       "13637   22735.jpg     61  [0.0, 0.0, 0.0, 0.0, 0.0, 0.0, 0.0, 0.0, 0.0, ...\n",
       "4166    45830.jpg     17  [0.0, 0.0, 0.0, 0.0, 0.0, 0.0, 0.0, 0.0, 0.0, ...\n",
       "14397   39851.jpg     67  [0.0, 0.0, 0.0, 0.0, 0.0, 0.0, 0.0, 0.0, 0.0, ...\n",
       "9811     7573.jpg     45  [0.0, 0.0, 0.0, 0.0, 0.0, 0.0, 0.0, 0.0, 0.0, ..."
      ]
     },
     "execution_count": 8,
     "metadata": {},
     "output_type": "execute_result"
    }
   ],
   "source": [
    "train_labels.sample(n=10)"
   ]
  },
  {
   "cell_type": "code",
   "execution_count": 46,
   "metadata": {},
   "outputs": [
    {
     "data": {
      "text/plain": [
       "<matplotlib.image.AxesImage at 0x15ddfe7c88>"
      ]
     },
     "execution_count": 46,
     "metadata": {},
     "output_type": "execute_result"
    },
    {
     "data": {
      "image/png": "[encoded data removed]",
      "text/plain": [
       "<matplotlib.figure.Figure at 0x15de041c88>"
      ]
     },
     "metadata": {},
     "output_type": "display_data"
    }
   ],
   "source": [
    "example = train_labels.sample(n=1).iloc[0]['image']\n",
    "example = np.asarray(example).reshape(IMAGE_SIZE,IMAGE_SIZE)\n",
    "plt.imshow(example,cmap='binary')"
   ]
  },
  {
   "cell_type": "code",
   "execution_count": 49,
   "metadata": {},
   "outputs": [
    {
     "data": {
      "text/plain": [
       "<matplotlib.image.AxesImage at 0x15de6c1630>"
      ]
     },
     "execution_count": 49,
     "metadata": {},
     "output_type": "execute_result"
    },
    {
     "data": {
      "image/png": "[encoded data removed]",
      "text/plain": [
       "<matplotlib.figure.Figure at 0x15de5977f0>"
      ]
     },
     "metadata": {},
     "output_type": "display_data"
    }
   ],
   "source": [
    "# Rotation example\n",
    "f = plt.figure(figsize=(16,3))\n",
    "\n",
    "rotated = rotate(example)\n",
    "sub1 = plt.subplot(1,4,1)\n",
    "plt.imshow(rotated[0], cmap='binary')\n",
    "sub1.set_title(\"Original Image\")\n",
    "sub2 = plt.subplot(1,4,2)\n",
    "plt.imshow(rotated[1], cmap='binary')\n",
    "sub2.set_title(\"90 degrees counter clockwise\")\n",
    "sub3 = plt.subplot(1,4,3)\n",
    "plt.imshow(rotated[2], cmap='binary')\n",
    "sub3.set_title(\"180 degrees counter clockwise\")\n",
    "sub4 = plt.subplot(1,4,4)\n",
    "sub4.set_title(\"270 degrees counter clockwise\")\n",
    "plt.imshow(rotated[3], cmap='binary')"
   ]
  },
  {
   "cell_type": "code",
   "execution_count": 8,
   "metadata": {
    "collapsed": true
   },
   "outputs": [],
   "source": [
    "# Change the labels from integer to categorical data\n",
    "train_labels_one_hot = to_categorical(train_labels['class'])\n",
    "# Find the unique numbers from the train labels\n",
    "classes = np.unique(train_labels['class'])\n",
    "nClasses = len(classes)"
   ]
  },
  {
   "cell_type": "code",
   "execution_count": 9,
   "metadata": {
    "collapsed": true
   },
   "outputs": [],
   "source": [
    "train_data = train_labels['image'].values"
   ]
  },
  {
   "cell_type": "code",
   "execution_count": 10,
   "metadata": {},
   "outputs": [
    {
     "name": "stdout",
     "output_type": "stream",
     "text": [
      "(24204,), (4096,)\n",
      "(24204, 4096)\n"
     ]
    }
   ],
   "source": [
    "for i in range(len(train_data)):\n",
    "    train_data[i] = np.asarray(train_data[i])\n",
    "\n",
    "# format it in such a way Keras can use it\n",
    "print('{}, {}'.format(train_data.shape, train_data[0].shape))\n",
    "train_data = np.array(train_data.tolist())\n",
    "print('{}'.format(train_data.shape))"
   ]
  },
  {
   "cell_type": "code",
   "execution_count": 12,
   "metadata": {},
   "outputs": [
    {
     "name": "stdout",
     "output_type": "stream",
     "text": [
      "Epoch 1/20\n",
      "24204/24204 [==============================] - 14s - loss: 3.5230 - acc: 0.2146    \n",
      "Epoch 2/20\n",
      "24204/24204 [==============================] - 14s - loss: 2.8193 - acc: 0.3264    \n",
      "Epoch 3/20\n",
      "24204/24204 [==============================] - 14s - loss: 2.5033 - acc: 0.3723    \n",
      "Epoch 4/20\n",
      "24204/24204 [==============================] - 14s - loss: 2.2945 - acc: 0.4102    \n",
      "Epoch 5/20\n",
      "24204/24204 [==============================] - 14s - loss: 2.1407 - acc: 0.4348    \n",
      "Epoch 6/20\n",
      "24204/24204 [==============================] - 13s - loss: 2.0275 - acc: 0.4580    \n",
      "Epoch 7/20\n",
      "24204/24204 [==============================] - 14s - loss: 1.9212 - acc: 0.4774    \n",
      "Epoch 8/20\n",
      "24204/24204 [==============================] - 14s - loss: 1.8433 - acc: 0.4940    \n",
      "Epoch 9/20\n",
      "24204/24204 [==============================] - 15s - loss: 1.7678 - acc: 0.5123    \n",
      "Epoch 10/20\n",
      "24204/24204 [==============================] - 14s - loss: 1.7068 - acc: 0.5207    \n",
      "Epoch 11/20\n",
      "24204/24204 [==============================] - 13s - loss: 1.6580 - acc: 0.5340    \n",
      "Epoch 12/20\n",
      "24204/24204 [==============================] - 14s - loss: 1.5943 - acc: 0.5502    \n",
      "Epoch 13/20\n",
      "24204/24204 [==============================] - 15s - loss: 1.5546 - acc: 0.5614    \n",
      "Epoch 14/20\n",
      "24204/24204 [==============================] - 14s - loss: 1.5076 - acc: 0.5691    \n",
      "Epoch 15/20\n",
      "24204/24204 [==============================] - 14s - loss: 1.4635 - acc: 0.5811    \n",
      "Epoch 16/20\n",
      "24204/24204 [==============================] - 15s - loss: 1.4318 - acc: 0.5875    \n",
      "Epoch 17/20\n",
      "24204/24204 [==============================] - 14s - loss: 1.3974 - acc: 0.5954    \n",
      "Epoch 18/20\n",
      "24204/24204 [==============================] - 14s - loss: 1.3529 - acc: 0.6111    \n",
      "Epoch 19/20\n",
      "24204/24204 [==============================] - 13s - loss: 1.3297 - acc: 0.6126    \n",
      "Epoch 20/20\n",
      "24204/24204 [==============================] - 13s - loss: 1.3070 - acc: 0.6210    \n"
     ]
    }
   ],
   "source": [
    "def model_first(train_data, train_labels_one_hot):\n",
    "    model_reg = Sequential()\n",
    "    model_reg.add(Dense(512, activation='relu', input_shape=(IMAGE_SIZE**2,)))\n",
    "    model_reg.add(Dropout(0.5))\n",
    "    model_reg.add(Dense(512, activation='relu'))\n",
    "    model_reg.add(Dropout(0.5))\n",
    "    model_reg.add(Dense(nClasses, activation='softmax'))\n",
    "\n",
    "    model_reg.compile(optimizer='rmsprop', loss='categorical_crossentropy', metrics=['accuracy'])\n",
    "\n",
    "    history_reg = model_reg.fit(train_data, train_labels_one_hot, batch_size=256, epochs=20, verbose=1)\n",
    "    \n",
    "    model_reg.save('../data/output/models/model1.h5')\n",
    "    model_reg.summary()\n",
    "\n",
    "# model_first(train_data, train_labels_one_hot)"
   ]
  },
  {
   "cell_type": "code",
   "execution_count": 15,
   "metadata": {},
   "outputs": [
    {
     "name": "stdout",
     "output_type": "stream",
     "text": [
      "(24204, 64, 64, 1)\n"
     ]
    }
   ],
   "source": [
    "# reshape it to work with Convolutional layers\n",
    "# after this, input layer will always have: input_shape=(IMAGE_SIZE,IMAGE_SIZE,1)\n",
    "train_data = np.reshape(train_data, (-1,64,64,1))\n",
    "print('{}'.format(train_data.shape))"
   ]
  },
  {
   "cell_type": "code",
   "execution_count": 18,
   "metadata": {},
   "outputs": [
    {
     "name": "stdout",
     "output_type": "stream",
     "text": [
      "Epoch 1/20\n",
      "24204/24204 [==============================] - 194s - loss: 2.9233 - acc: 0.3138   \n",
      "Epoch 2/20\n",
      "24204/24204 [==============================] - 184s - loss: 2.1563 - acc: 0.4378   \n",
      "Epoch 3/20\n",
      "24204/24204 [==============================] - 182s - loss: 1.8523 - acc: 0.5037   \n",
      "Epoch 4/20\n",
      "24204/24204 [==============================] - 174s - loss: 1.6318 - acc: 0.5538   \n",
      "Epoch 5/20\n",
      "24204/24204 [==============================] - 171s - loss: 1.4770 - acc: 0.5928   \n",
      "Epoch 6/20\n",
      "24204/24204 [==============================] - 172s - loss: 1.3362 - acc: 0.6249   \n",
      "Epoch 7/20\n",
      "24204/24204 [==============================] - 199s - loss: 1.1982 - acc: 0.6581   \n",
      "Epoch 8/20\n",
      "24204/24204 [==============================] - 181s - loss: 1.0874 - acc: 0.6878   \n",
      "Epoch 9/20\n",
      "24204/24204 [==============================] - 187s - loss: 0.9886 - acc: 0.7126   \n",
      "Epoch 10/20\n",
      "24204/24204 [==============================] - 200s - loss: 0.8948 - acc: 0.7363   \n",
      "Epoch 11/20\n",
      "24204/24204 [==============================] - 182s - loss: 0.8149 - acc: 0.7608   \n",
      "Epoch 12/20\n",
      "24204/24204 [==============================] - 188s - loss: 0.7373 - acc: 0.7772   \n",
      "Epoch 13/20\n",
      "24204/24204 [==============================] - 185s - loss: 0.6838 - acc: 0.7973   \n",
      "Epoch 14/20\n",
      "24204/24204 [==============================] - 206s - loss: 0.6290 - acc: 0.8090   \n",
      "Epoch 15/20\n",
      "24204/24204 [==============================] - 196s - loss: 0.5730 - acc: 0.8252   \n",
      "Epoch 16/20\n",
      "24204/24204 [==============================] - 179s - loss: 0.5332 - acc: 0.8366   \n",
      "Epoch 17/20\n",
      "24204/24204 [==============================] - 193s - loss: 0.4940 - acc: 0.8498   \n",
      "Epoch 18/20\n",
      "24204/24204 [==============================] - 188s - loss: 0.4649 - acc: 0.8582   \n",
      "Epoch 19/20\n",
      "24204/24204 [==============================] - 207s - loss: 0.4356 - acc: 0.8668   \n",
      "Epoch 20/20\n",
      "24204/24204 [==============================] - 200s - loss: 0.4060 - acc: 0.8761   \n"
     ]
    }
   ],
   "source": [
    "def model_single_conv(train_data, train_labels_one_hot):\n",
    "    # takes roughly 1 hour to train\n",
    "    model_a = Sequential()\n",
    "    model_a.add(Conv2D(32, (3, 3), input_shape=(IMAGE_SIZE,IMAGE_SIZE,1), padding='same', activation='relu'))\n",
    "    model_a.add(MaxPooling2D(pool_size=(2, 2)))\n",
    "    model_a.add(Flatten())\n",
    "    model_a.add(Dense(512, activation='relu'))\n",
    "    model_a.add(Dropout(0.5))\n",
    "    model_a.add(Dense(nClasses, activation='softmax'))\n",
    "\n",
    "    model_a.compile(optimizer='rmsprop', loss='categorical_crossentropy', metrics=['accuracy'])\n",
    "\n",
    "    history_a = model_a.fit(train_data, train_labels_one_hot, batch_size=128, epochs=20, verbose=1)\n",
    "\n",
    "    model_a.save('../data/output/models/model3.h5')\n",
    "\n",
    "    model_a.summary()\n",
    "\n",
    "# model_single_conv(train_data, train_labels_one_hot)"
   ]
  },
  {
   "cell_type": "code",
   "execution_count": 19,
   "metadata": {
    "collapsed": true
   },
   "outputs": [],
   "source": [
    "def model_double_conv():\n",
    "    # takes roughly 3 hours to train\n",
    "    model_a = Sequential()\n",
    "    model_a.add(Conv2D(32, (3, 3), input_shape=(IMAGE_SIZE,IMAGE_SIZE,1), padding='same', activation='relu'))\n",
    "    model_a.add(Dropout(0.5))\n",
    "    model_a.add(Conv2D(32, (3, 3), activation='relu', padding='same'))\n",
    "    model_a.add(MaxPooling2D(pool_size=(2, 2)))\n",
    "    model_a.add(Flatten())\n",
    "    model_a.add(Dense(512, activation='relu'))\n",
    "    model_a.add(Dropout(0.5))\n",
    "    model_a.add(Dense(nClasses, activation='softmax'))\n",
    "\n",
    "    model_a.compile(optimizer='rmsprop', loss='categorical_crossentropy', metrics=['accuracy'])\n",
    "\n",
    "    history_a = model_a.fit(train_data, train_labels_one_hot, batch_size=128, epochs=20, verbose=1)\n",
    "\n",
    "    model_a.save('../data/output/models/model3.h5')\n",
    "\n",
    "    model_a.summary()\n",
    "    \n",
    "# model_double_conv(train_data, train_labels_one_hot)"
   ]
  },
  {
   "cell_type": "code",
   "execution_count": null,
   "metadata": {
    "collapsed": true
   },
   "outputs": [],
   "source": []
  }
 ],
 "metadata": {
  "kernelspec": {
   "display_name": "Python 3",
   "language": "python",
   "name": "python3"
  },
  "language_info": {
   "codemirror_mode": {
    "name": "ipython",
    "version": 3
   },
   "file_extension": ".py",
   "mimetype": "text/x-python",
   "name": "python",
   "nbconvert_exporter": "python",
   "pygments_lexer": "ipython3",
   "version": "3.6.2"
  }
 },
 "nbformat": 4,
 "nbformat_minor": 2
}
